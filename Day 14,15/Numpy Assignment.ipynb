{
 "cells": [
  {
   "cell_type": "markdown",
   "metadata": {},
   "source": [
    "# 1. Create a 3x3x3 array with random values "
   ]
  },
  {
   "cell_type": "code",
   "execution_count": 1,
   "metadata": {},
   "outputs": [
    {
     "data": {
      "text/plain": [
       "array([[1.07, 0.44, 1.5 ],\n",
       "       [0.27, 1.13, 1.72],\n",
       "       [0.27, 1.13, 1.72]])"
      ]
     },
     "execution_count": 1,
     "metadata": {},
     "output_type": "execute_result"
    }
   ],
   "source": [
    "import numpy as np\n",
    "array3X3 = np.array([[1.07, 0.44, 1.5],[0.27, 1.13, 1.72],[0.27, 1.13, 1.72]])\n",
    "array3X3"
   ]
  },
  {
   "cell_type": "markdown",
   "metadata": {},
   "source": [
    "# 2.Create a 5x5 matrix with values 1,2,3,4 just below the diagonal"
   ]
  },
  {
   "cell_type": "code",
   "execution_count": 2,
   "metadata": {},
   "outputs": [
    {
     "name": "stdout",
     "output_type": "stream",
     "text": [
      "[[1 0 0 0 0]\n",
      " [0 2 0 0 0]\n",
      " [0 0 3 0 0]\n",
      " [0 0 0 4 0]\n",
      " [0 0 0 0 5]]\n"
     ]
    }
   ],
   "source": [
    "x = np.diag([1, 2, 3, 4, 5])\n",
    "print(x)"
   ]
  },
  {
   "cell_type": "markdown",
   "metadata": {},
   "source": [
    "# 3.Create a 8x8 matrix and fill it with a checkerboard pattern"
   ]
  },
  {
   "cell_type": "code",
   "execution_count": 3,
   "metadata": {},
   "outputs": [
    {
     "name": "stdout",
     "output_type": "stream",
     "text": [
      "Checkerboard pattern:\n",
      "[[0 1 0 1 0 1 0 1]\n",
      " [1 0 1 0 1 0 1 0]\n",
      " [0 1 0 1 0 1 0 1]\n",
      " [1 0 1 0 1 0 1 0]\n",
      " [0 1 0 1 0 1 0 1]\n",
      " [1 0 1 0 1 0 1 0]\n",
      " [0 1 0 1 0 1 0 1]\n",
      " [1 0 1 0 1 0 1 0]]\n"
     ]
    }
   ],
   "source": [
    "x = np.ones((3,3))\n",
    "print(\"Checkerboard pattern:\")\n",
    "x = np.zeros((8,8),dtype=int)\n",
    "x[1::2,::2] = 1\n",
    "x[::2,1::2] = 1\n",
    "print(x)"
   ]
  },
  {
   "cell_type": "markdown",
   "metadata": {},
   "source": [
    "# 4. Normalize a 5x5 random matrix"
   ]
  },
  {
   "cell_type": "code",
   "execution_count": 6,
   "metadata": {},
   "outputs": [
    {
     "name": "stdout",
     "output_type": "stream",
     "text": [
      "[[0.10664276 0.0438531  0.14949919]\n",
      " [0.02690985 0.11262273 0.17142574]\n",
      " [0.02690985 0.11262273 0.17142574]\n",
      " [0.05481637 0.81028563 0.17142574]\n",
      " [0.07773958 0.34883145 0.24916532]]\n"
     ]
    }
   ],
   "source": [
    "array3X3 = np.array([[1.07, 0.44, 1.5],[0.27, 1.13, 1.72],[0.27, 1.13, 1.72],[0.55, 8.13, 1.72],[0.78, 3.5, 2.5]])\n",
    "\n",
    "norm = np.linalg.norm(array3X3)\n",
    "normal_array = array3X3/norm\n",
    "print(normal_array)"
   ]
  },
  {
   "cell_type": "markdown",
   "metadata": {},
   "source": [
    "# 5.  How to find common values between two arrays?"
   ]
  },
  {
   "cell_type": "code",
   "execution_count": 7,
   "metadata": {},
   "outputs": [
    {
     "name": "stdout",
     "output_type": "stream",
     "text": [
      "Array1:  [ 0 10 20 40 60]\n",
      "Array2:  [10, 30, 40]\n",
      "Common values between two arrays:\n",
      "[10 40]\n"
     ]
    }
   ],
   "source": [
    "array1 = np.array([0, 10, 20, 40, 60])\n",
    "print(\"Array1: \",array1)\n",
    "array2 = [10, 30, 40]\n",
    "print(\"Array2: \",array2)\n",
    "print(\"Common values between two arrays:\")\n",
    "print(np.intersect1d(array1, array2))"
   ]
  },
  {
   "cell_type": "markdown",
   "metadata": {},
   "source": [
    "# 6.How to get the dates of yesterday, today and tomorrow?"
   ]
  },
  {
   "cell_type": "code",
   "execution_count": 8,
   "metadata": {},
   "outputs": [
    {
     "name": "stdout",
     "output_type": "stream",
     "text": [
      "Yesterday =  26-07-2020\n",
      "Today =  27-07-2020\n",
      "Tomorrow =  28-07-2020\n"
     ]
    }
   ],
   "source": [
    "from datetime import datetime, timedelta \n",
    "  \n",
    "  \n",
    "# Get today's date \n",
    "presentday = datetime.now() # or presentday = datetime.today() \n",
    "  \n",
    "# Get Yesterday \n",
    "yesterday = presentday - timedelta(1) \n",
    "  \n",
    "# Get Tomorrow \n",
    "tomorrow = presentday + timedelta(1) \n",
    "  \n",
    "  \n",
    "# strftime() is to format date according to \n",
    "# the need by converting them to string \n",
    "print(\"Yesterday = \", yesterday.strftime('%d-%m-%Y')) \n",
    "print(\"Today = \", presentday.strftime('%d-%m-%Y')) \n",
    "print(\"Tomorrow = \", tomorrow.strftime('%d-%m-%Y'))"
   ]
  },
  {
   "cell_type": "markdown",
   "metadata": {},
   "source": [
    "# 7. Consider two random array A and B, check if they are equal"
   ]
  },
  {
   "cell_type": "code",
   "execution_count": 10,
   "metadata": {},
   "outputs": [
    {
     "name": "stdout",
     "output_type": "stream",
     "text": [
      "True\n",
      "False\n"
     ]
    }
   ],
   "source": [
    "an_array = np.array([[1,2],[3,4]])\n",
    "an_arrayb = np.array([[1,2],[2,4]])\n",
    "another_array = np.array([[1,2],[3,4]])\n",
    "\n",
    "comparison = an_array == another_array\n",
    "comparisonb = an_arrayb == another_array\n",
    "\n",
    "equal_arrays = comparison.all()\n",
    "equal_arraysb = comparisonb.all()\n",
    "\n",
    "print(equal_arrays)\n",
    "print(equal_arraysb)"
   ]
  },
  {
   "cell_type": "markdown",
   "metadata": {},
   "source": [
    "# 8.Create random vector of size 10 and replace the maximum value by 0 "
   ]
  },
  {
   "cell_type": "code",
   "execution_count": 11,
   "metadata": {},
   "outputs": [
    {
     "name": "stdout",
     "output_type": "stream",
     "text": [
      "Original array:\n",
      "[0.97025853 0.72697789 0.31386506 0.21043985 0.97081096 0.02000338\n",
      " 0.63247088 0.98416503 0.42912114 0.83203415 0.46117011 0.24132718\n",
      " 0.5114885  0.07820575 0.76719585]\n",
      "Maximum value replaced by -1:\n",
      "[ 0.97025853  0.72697789  0.31386506  0.21043985  0.97081096  0.02000338\n",
      "  0.63247088 -1.          0.42912114  0.83203415  0.46117011  0.24132718\n",
      "  0.5114885   0.07820575  0.76719585]\n"
     ]
    }
   ],
   "source": [
    "x = np.random.random(15)\n",
    "print(\"Original array:\")\n",
    "print(x)\n",
    "x[x.argmax()] = -1\n",
    "print(\"Maximum value replaced by -1:\")\n",
    "print(x)"
   ]
  },
  {
   "cell_type": "markdown",
   "metadata": {},
   "source": [
    "# 9. How to print all the values of an array?"
   ]
  },
  {
   "cell_type": "code",
   "execution_count": 13,
   "metadata": {},
   "outputs": [
    {
     "name": "stdout",
     "output_type": "stream",
     "text": [
      "[[0. 0. 0. 0.]\n",
      " [0. 0. 0. 0.]\n",
      " [0. 0. 0. 0.]\n",
      " [0. 0. 0. 0.]]\n"
     ]
    }
   ],
   "source": [
    "x = np.zeros((4, 4))\n",
    "print(x)"
   ]
  },
  {
   "cell_type": "markdown",
   "metadata": {},
   "source": [
    "# 10.Subtract the mean of each row of a matrix"
   ]
  },
  {
   "cell_type": "code",
   "execution_count": 14,
   "metadata": {},
   "outputs": [
    {
     "name": "stdout",
     "output_type": "stream",
     "text": [
      "[[0.87143469 0.11317008 0.24854055 0.40105017 0.57320176 0.59914148\n",
      "  0.89090098 0.68877677 0.82068276 0.00501579]\n",
      " [0.9379787  0.7019145  0.27799272 0.36753806 0.80007541 0.1992239\n",
      "  0.69966132 0.24392306 0.44589692 0.11746452]\n",
      " [0.09830958 0.51948649 0.94750386 0.62138838 0.0440887  0.92730458\n",
      "  0.69565044 0.18733045 0.24089913 0.3105171 ]\n",
      " [0.30537854 0.21687833 0.75376314 0.83692739 0.02432144 0.49100338\n",
      "  0.98198435 0.34130058 0.96946322 0.35745536]\n",
      " [0.06410423 0.03344401 0.65051439 0.48285249 0.61710224 0.01346252\n",
      "  0.95817786 0.07448236 0.48405331 0.30228678]]\n",
      "\n",
      "Subtract the mean of each row of the said matrix:\n",
      "\n",
      "[[ 0.35024318 -0.40802143 -0.27265095 -0.12014133  0.05201025  0.07794997\n",
      "   0.36970948  0.16758527  0.29949126 -0.51617571]\n",
      " [ 0.45881178  0.22274759 -0.20117419 -0.11162885  0.3209085  -0.27994301\n",
      "   0.22049441 -0.23524385 -0.03326999 -0.36170239]\n",
      " [-0.36093829  0.06023862  0.48825599  0.16214051 -0.41515917  0.46805671\n",
      "   0.23640257 -0.27191742 -0.21834874 -0.14873077]\n",
      " [-0.22246903 -0.31096924  0.22591557  0.30907982 -0.50352613 -0.03684419\n",
      "   0.45413677 -0.18654699  0.44161564 -0.17039221]\n",
      " [-0.30394379 -0.334604    0.28246637  0.11480447  0.24905422 -0.3545855\n",
      "   0.59012985 -0.29356566  0.11600529 -0.06576124]]\n"
     ]
    }
   ],
   "source": [
    "X = np.random.rand(5, 10)\n",
    "print(X)\n",
    "print(\"\\nSubtract the mean of each row of the said matrix:\\n\")\n",
    "Y = X - X.mean(axis=1, keepdims=True)\n",
    "print(Y)"
   ]
  },
  {
   "cell_type": "markdown",
   "metadata": {},
   "source": [
    "# 11.Consider a given vector, how to add 1 to each element indexed by a second vector (be careful with repeated indices)? "
   ]
  },
  {
   "cell_type": "code",
   "execution_count": null,
   "metadata": {},
   "outputs": [],
   "source": []
  },
  {
   "cell_type": "code",
   "execution_count": null,
   "metadata": {},
   "outputs": [],
   "source": []
  },
  {
   "cell_type": "markdown",
   "metadata": {},
   "source": [
    "# 12.How to get the diagonal of a dot product?"
   ]
  },
  {
   "cell_type": "code",
   "execution_count": 19,
   "metadata": {},
   "outputs": [
    {
     "ename": "IndentationError",
     "evalue": "unexpected indent (<ipython-input-19-5992252996c6>, line 4)",
     "output_type": "error",
     "traceback": [
      "\u001b[1;36m  File \u001b[1;32m\"<ipython-input-19-5992252996c6>\"\u001b[1;36m, line \u001b[1;32m4\u001b[0m\n\u001b[1;33m    Z = np.dot(X, Y)\u001b[0m\n\u001b[1;37m    ^\u001b[0m\n\u001b[1;31mIndentationError\u001b[0m\u001b[1;31m:\u001b[0m unexpected indent\n"
     ]
    }
   ],
   "source": [
    "X = np.array([[1.07, 0.44, 1.5],[0.27, 1.13, 1.72],[0.27, 1.13, 1.72],[0.55, 8.13, 1.72],[0.78, 3.5, 2.5]])\n",
    "Y = np.array([[1, 0.44, 1.5],[0.5, 1.13, 1.2],[0.7, 1.03, 1.2],[0.65, 2.13, 1.2],[8.78, 3.52, 2.52]])\n",
    " \n",
    "    Z = np.dot(X, Y)\n",
    "    Z"
   ]
  },
  {
   "cell_type": "markdown",
   "metadata": {},
   "source": [
    "# 13.How to find the most frequent value in an array?"
   ]
  },
  {
   "cell_type": "code",
   "execution_count": 22,
   "metadata": {},
   "outputs": [
    {
     "name": "stdout",
     "output_type": "stream",
     "text": [
      "Original array:\n",
      "[7 2 2 7 9 2 3 6 2 3 4 9 7 3 1 7 1 6 7 8 9 2 8 1 6 4 8 6 4 3 7 7 3 0 8 5 6\n",
      " 9 3 7]\n",
      "Most frequent value in the above array:\n",
      "7\n"
     ]
    }
   ],
   "source": [
    "x = np.random.randint(0, 10, 40)\n",
    "print(\"Original array:\")\n",
    "print(x)\n",
    "print(\"Most frequent value in the above array:\")\n",
    "print(np.bincount(x).argmax())"
   ]
  },
  {
   "cell_type": "markdown",
   "metadata": {},
   "source": [
    "# 14.How to get the n largest values of an array"
   ]
  },
  {
   "cell_type": "code",
   "execution_count": 23,
   "metadata": {},
   "outputs": [
    {
     "name": "stdout",
     "output_type": "stream",
     "text": [
      "Original array:\n",
      "[0 1 2 3 4 5 6 7 8 9]\n",
      "[9]\n"
     ]
    }
   ],
   "source": [
    "x = np.arange(10)\n",
    "print(\"Original array:\")\n",
    "print(x)\n",
    "np.random.shuffle(x)\n",
    "n = 1\n",
    "print (x[np.argsort(x)[-n:]])"
   ]
  },
  {
   "cell_type": "markdown",
   "metadata": {},
   "source": [
    "# 15.How to create a record array from a regular array?"
   ]
  },
  {
   "cell_type": "code",
   "execution_count": 21,
   "metadata": {},
   "outputs": [
    {
     "name": "stdout",
     "output_type": "stream",
     "text": [
      "Original arrays:\n",
      "[['Yasemin Rayner' '88.5' '90']\n",
      " ['Ayaana Mcnamara' '87' '99']\n",
      " ['Jody Preece' '85.5' '91']]\n",
      "\n",
      "Record array;\n",
      "[(b'Yasemin Rayner', 88.5, 90) (b'Ayaana Mcnamara', 87. , 99)\n",
      " (b'Jody Preece', 85.5, 91)]\n"
     ]
    }
   ],
   "source": [
    "arra1 = np.array([(\"Yasemin Rayner\", 88.5, 90),\n",
    "                 (\"Ayaana Mcnamara\", 87, 99),\n",
    "             (\"Jody Preece\", 85.5, 91)])\n",
    "print(\"Original arrays:\")\n",
    "print(arra1)\n",
    "print(\"\\nRecord array;\")\n",
    "result = np.core.records.fromarrays(arra1.T,\n",
    "                              names='col1, col2, col3',\n",
    "                              formats = 'S80, f8, i8')\n",
    "print(result)"
   ]
  },
  {
   "cell_type": "code",
   "execution_count": null,
   "metadata": {},
   "outputs": [],
   "source": []
  }
 ],
 "metadata": {
  "kernelspec": {
   "display_name": "Python 3",
   "language": "python",
   "name": "python3"
  },
  "language_info": {
   "codemirror_mode": {
    "name": "ipython",
    "version": 3
   },
   "file_extension": ".py",
   "mimetype": "text/x-python",
   "name": "python",
   "nbconvert_exporter": "python",
   "pygments_lexer": "ipython3",
   "version": "3.7.6"
  }
 },
 "nbformat": 4,
 "nbformat_minor": 2
}
