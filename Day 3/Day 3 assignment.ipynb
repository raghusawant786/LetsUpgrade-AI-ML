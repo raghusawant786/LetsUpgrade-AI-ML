{
 "cells": [
  {
   "cell_type": "code",
   "execution_count": 3,
   "metadata": {},
   "outputs": [
    {
     "name": "stdout",
     "output_type": "stream",
     "text": [
      "Subtraction of two complex numbers :  (1+10j)\n"
     ]
    }
   ],
   "source": [
    "# Write a program to subtract two complex numbers in Python\n",
    "a= (4+3j)\n",
    "b= (3-7j)\n",
    "print(\"Subtraction of two complex numbers : \",a-b)"
   ]
  },
  {
   "cell_type": "code",
   "execution_count": 6,
   "metadata": {},
   "outputs": [
    {
     "name": "stdout",
     "output_type": "stream",
     "text": [
      "4.0\n"
     ]
    }
   ],
   "source": [
    "#Write a program to find the fourth root of a number\n",
    "a=256\n",
    "n=4\n",
    "q=pow(a,(1/n))\n",
    "print(q)"
   ]
  },
  {
   "cell_type": "code",
   "execution_count": 10,
   "metadata": {},
   "outputs": [
    {
     "name": "stdout",
     "output_type": "stream",
     "text": [
      "before swipe a = 56  b =  45\n",
      "after swipe a = 45  b =  56\n"
     ]
    }
   ],
   "source": [
    "#Write a program to swap two numbers in Python with the help of a temporary variable\n",
    "temp = 0\n",
    "a = 56\n",
    "b = 45\n",
    "print(\"before swipe a =\",a,\" b = \",b)\n",
    "temp = a\n",
    "a= b\n",
    "b = temp\n",
    "print(\"after swipe a =\",a,\" b = \",b)"
   ]
  },
  {
   "cell_type": "code",
   "execution_count": 12,
   "metadata": {},
   "outputs": [
    {
     "name": "stdout",
     "output_type": "stream",
     "text": [
      "before swipe a = 56  b =  45\n",
      "after swipe a = 45  b =  56\n"
     ]
    }
   ],
   "source": [
    "# Write a program to swap two numbers in Python without using a temporary variable.\n",
    "#Write a program to swap two numbers in Python with the help of a temporary variable\n",
    "a = 56\n",
    "b = 45\n",
    "print(\"before swipe a =\",a,\" b = \",b)\n",
    "a= a+b\n",
    "b= a-b\n",
    "a = a-b\n",
    "print(\"after swipe a =\",a,\" b = \",b)\n",
    "\n",
    "\n"
   ]
  },
  {
   "cell_type": "code",
   "execution_count": 9,
   "metadata": {},
   "outputs": [
    {
     "name": "stdout",
     "output_type": "stream",
     "text": [
      "Enter temperature in fahrenheit: 55\n",
      "The temperature in Kelvin =  286  Celsius =  13\n"
     ]
    }
   ],
   "source": [
    "#Write a program to convert fahrenheit to kelvin and celsius both\n",
    "fahrenheit = float(input(\"Enter temperature in fahrenheit: \"))\n",
    "\n",
    "Kelvin = 0\n",
    "celsius = 0\n",
    "\n",
    "celsius = round((fahrenheit - 32) * 5/9)\n",
    "Kelvin = round((273.5 + ((fahrenheit - 32) * (5/9))))\n",
    "\n",
    "print(\"The temperature in Kelvin = \", Kelvin, \" Celsius = \", celsius )"
   ]
  },
  {
   "cell_type": "code",
   "execution_count": 14,
   "metadata": {},
   "outputs": [
    {
     "name": "stdout",
     "output_type": "stream",
     "text": [
      "Type of a:  <class 'int'>\n",
      "\n",
      "Type of b:  <class 'float'>\n",
      "\n",
      "Type of c:  <class 'complex'>\n",
      "<class 'list'>\n",
      "<class 'tuple'>\n"
     ]
    }
   ],
   "source": [
    "# Write a program to demonstrate all the available data types in Python. Hint: Use type() function.\n",
    "\n",
    "a = 5\n",
    "print(\"Type of a: \", type(a)) \n",
    "  \n",
    "b = 5.0\n",
    "print(\"\\nType of b: \", type(b)) \n",
    "  \n",
    "c = 2 + 4j\n",
    "print(\"\\nType of c: \", type(c)) \n",
    "\n",
    "String1 = 'Welcome to the Geeks World'\n",
    "type(String1)  \n",
    "\n",
    "List = [\"Geeks\", \"For\", \"Geeks\"]  \n",
    "print(type(List) )\n",
    "\n",
    "Tuple1 = ('Geeks', 'For')  \n",
    "print(type(Tuple1) ) "
   ]
  },
  {
   "cell_type": "code",
   "execution_count": null,
   "metadata": {},
   "outputs": [],
   "source": []
  }
 ],
 "metadata": {
  "kernelspec": {
   "display_name": "Python 3",
   "language": "python",
   "name": "python3"
  },
  "language_info": {
   "codemirror_mode": {
    "name": "ipython",
    "version": 3
   },
   "file_extension": ".py",
   "mimetype": "text/x-python",
   "name": "python",
   "nbconvert_exporter": "python",
   "pygments_lexer": "ipython3",
   "version": "3.7.6"
  }
 },
 "nbformat": 4,
 "nbformat_minor": 4
}
